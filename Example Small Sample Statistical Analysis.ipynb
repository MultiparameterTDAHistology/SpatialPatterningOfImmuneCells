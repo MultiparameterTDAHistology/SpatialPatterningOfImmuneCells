{
 "cells": [
  {
   "cell_type": "code",
   "execution_count": 1,
   "metadata": {},
   "outputs": [
    {
     "data": {
      "application/javascript": [
       "\n",
       "            setTimeout(function() {\n",
       "                var nbb_cell_id = 1;\n",
       "                var nbb_unformatted_code = \"%load_ext nb_black\";\n",
       "                var nbb_formatted_code = \"%load_ext nb_black\";\n",
       "                var nbb_cells = Jupyter.notebook.get_cells();\n",
       "                for (var i = 0; i < nbb_cells.length; ++i) {\n",
       "                    if (nbb_cells[i].input_prompt_number == nbb_cell_id) {\n",
       "                        if (nbb_cells[i].get_text() == nbb_unformatted_code) {\n",
       "                             nbb_cells[i].set_text(nbb_formatted_code);\n",
       "                        }\n",
       "                        break;\n",
       "                    }\n",
       "                }\n",
       "            }, 500);\n",
       "            "
      ],
      "text/plain": [
       "<IPython.core.display.Javascript object>"
      ]
     },
     "metadata": {},
     "output_type": "display_data"
    }
   ],
   "source": [
    "%load_ext nb_black"
   ]
  },
  {
   "cell_type": "markdown",
   "metadata": {},
   "source": [
    "## Example Small Sample Statistical Analysis Using Tumour $T_C$"
   ]
  },
  {
   "cell_type": "markdown",
   "metadata": {},
   "source": [
    "We include the text files written to input to RIVET with parameters standardised using the global standardisation described in the paper, and exhibit our topological statistical analysis. The computation of landscapes is detailed in the notebook *Example Writing RIVET Input, Computing Multiparameter Persistence and Landscapes*."
   ]
  },
  {
   "cell_type": "code",
   "execution_count": 2,
   "metadata": {},
   "outputs": [
    {
     "data": {
      "application/javascript": [
       "\n",
       "            setTimeout(function() {\n",
       "                var nbb_cell_id = 2;\n",
       "                var nbb_unformatted_code = \"import pandas as pd\\nimport numpy as np\\nimport multiparameter_landscape\\nimport multiparameter_landscape_plotting\\nimport matplotlib.pyplot as plt\\nimport helper_functions\\nimport os\";\n",
       "                var nbb_formatted_code = \"import pandas as pd\\nimport numpy as np\\nimport multiparameter_landscape\\nimport multiparameter_landscape_plotting\\nimport matplotlib.pyplot as plt\\nimport helper_functions\\nimport os\";\n",
       "                var nbb_cells = Jupyter.notebook.get_cells();\n",
       "                for (var i = 0; i < nbb_cells.length; ++i) {\n",
       "                    if (nbb_cells[i].input_prompt_number == nbb_cell_id) {\n",
       "                        if (nbb_cells[i].get_text() == nbb_unformatted_code) {\n",
       "                             nbb_cells[i].set_text(nbb_formatted_code);\n",
       "                        }\n",
       "                        break;\n",
       "                    }\n",
       "                }\n",
       "            }, 500);\n",
       "            "
      ],
      "text/plain": [
       "<IPython.core.display.Javascript object>"
      ]
     },
     "metadata": {},
     "output_type": "display_data"
    }
   ],
   "source": [
    "import pandas as pd\n",
    "import numpy as np\n",
    "import multiparameter_landscape\n",
    "import multiparameter_landscape_plotting\n",
    "import matplotlib.pyplot as plt\n",
    "import helper_functions\n",
    "import os"
   ]
  },
  {
   "cell_type": "markdown",
   "metadata": {},
   "source": [
    "Load in landscapes."
   ]
  },
  {
   "cell_type": "code",
   "execution_count": 3,
   "metadata": {},
   "outputs": [
    {
     "data": {
      "application/javascript": [
       "\n",
       "            setTimeout(function() {\n",
       "                var nbb_cell_id = 3;\n",
       "                var nbb_unformatted_code = \"landscape_path = \\\"ExampleSmallSamples/Landscapes/\\\"\\nfiles = [fn for fn in os.listdir(landscape_path) if fn.endswith(\\\".npy\\\")]\\n\\ncd8files = [fn for fn in files if \\\"CD8\\\" in fn]\\nfoxp3files = [fn for fn in files if \\\"FoxP3\\\" in fn]\\ncd68files = [fn for fn in files if \\\"CD68\\\" in fn]\\n\\n\\ncd8n = len(cd8files)\\nfoxp3n = len(foxp3files)\\ncd68n = len(cd68files)\\n\\n# Create holder arrays to load in landscapes of each cell type\\ncd8 = np.zeros((cd8n, 51 ** 2))\\nfoxp3 = np.zeros((foxp3n, 51 ** 2))\\ncd68 = np.zeros((cd68n, 51 ** 2))\\n\\n# Load the first landscape into the holder arrays for each cell type\\nfor holder, files in zip([cd8, foxp3, cd68], [cd8files, foxp3files, cd68files]):\\n    for t in range(len(files)):\\n        fn = files[t]\\n        holder[t, :] = np.load(landscape_path + fn)[0, :, :].flatten()\";\n",
       "                var nbb_formatted_code = \"landscape_path = \\\"ExampleSmallSamples/Landscapes/\\\"\\nfiles = [fn for fn in os.listdir(landscape_path) if fn.endswith(\\\".npy\\\")]\\n\\ncd8files = [fn for fn in files if \\\"CD8\\\" in fn]\\nfoxp3files = [fn for fn in files if \\\"FoxP3\\\" in fn]\\ncd68files = [fn for fn in files if \\\"CD68\\\" in fn]\\n\\n\\ncd8n = len(cd8files)\\nfoxp3n = len(foxp3files)\\ncd68n = len(cd68files)\\n\\n# Create holder arrays to load in landscapes of each cell type\\ncd8 = np.zeros((cd8n, 51 ** 2))\\nfoxp3 = np.zeros((foxp3n, 51 ** 2))\\ncd68 = np.zeros((cd68n, 51 ** 2))\\n\\n# Load the first landscape into the holder arrays for each cell type\\nfor holder, files in zip([cd8, foxp3, cd68], [cd8files, foxp3files, cd68files]):\\n    for t in range(len(files)):\\n        fn = files[t]\\n        holder[t, :] = np.load(landscape_path + fn)[0, :, :].flatten()\";\n",
       "                var nbb_cells = Jupyter.notebook.get_cells();\n",
       "                for (var i = 0; i < nbb_cells.length; ++i) {\n",
       "                    if (nbb_cells[i].input_prompt_number == nbb_cell_id) {\n",
       "                        if (nbb_cells[i].get_text() == nbb_unformatted_code) {\n",
       "                             nbb_cells[i].set_text(nbb_formatted_code);\n",
       "                        }\n",
       "                        break;\n",
       "                    }\n",
       "                }\n",
       "            }, 500);\n",
       "            "
      ],
      "text/plain": [
       "<IPython.core.display.Javascript object>"
      ]
     },
     "metadata": {},
     "output_type": "display_data"
    }
   ],
   "source": [
    "landscape_path = \"ExampleSmallSamples/Landscapes/\"\n",
    "files = [fn for fn in os.listdir(landscape_path) if fn.endswith(\".npy\")]\n",
    "\n",
    "cd8files = [fn for fn in files if \"CD8\" in fn]\n",
    "foxp3files = [fn for fn in files if \"FoxP3\" in fn]\n",
    "cd68files = [fn for fn in files if \"CD68\" in fn]\n",
    "\n",
    "\n",
    "cd8n = len(cd8files)\n",
    "foxp3n = len(foxp3files)\n",
    "cd68n = len(cd68files)\n",
    "\n",
    "# Create holder arrays to load in landscapes of each cell type\n",
    "cd8 = np.zeros((cd8n, 51 ** 2))\n",
    "foxp3 = np.zeros((foxp3n, 51 ** 2))\n",
    "cd68 = np.zeros((cd68n, 51 ** 2))\n",
    "\n",
    "# Load the first landscape into the holder arrays for each cell type\n",
    "for holder, files in zip([cd8, foxp3, cd68], [cd8files, foxp3files, cd68files]):\n",
    "    for t in range(len(files)):\n",
    "        fn = files[t]\n",
    "        holder[t, :] = np.load(landscape_path + fn)[0, :, :].flatten()"
   ]
  },
  {
   "cell_type": "code",
   "execution_count": 4,
   "metadata": {},
   "outputs": [
    {
     "data": {
      "image/png": "[encoded data removed]",
      "text/plain": [
       "<Figure size 1080x360 with 3 Axes>"
      ]
     },
     "metadata": {
      "needs_background": "light"
     },
     "output_type": "display_data"
    },
    {
     "data": {
      "application/javascript": [
       "\n",
       "            setTimeout(function() {\n",
       "                var nbb_cell_id = 4;\n",
       "                var nbb_unformatted_code = \"# Plot the average landscape for each cell type\\nf, axes = plt.subplots(1,3,figsize=(15,5))\\n\\nfor i, (celltype, landscape_holder) in enumerate(zip(['CD8', 'FoxP3','CD68'],[cd8, foxp3, cd68])):\\n    ax = plt.subplot(1,3,i+1)\\n    avg_landscape = np.mean(landscape_holder,axis = 0).reshape(51,51)\\n    ax.set_yticks([0,25, 50])\\n    ax.set_xticks([0,25, 50])\\n    ax.set_xticklabels([0, 180, 360])\\n    ax.set_yticklabels([600, 300, 0])\\n    ax.set_xlabel(\\\"10NN Codensity\\\")\\n    ax.set_ylabel(\\\"Radius\\\")\\n    ax.set_title(f\\\"{celltype} Average Landscape\\\", fontsize=16)\\n    ax.imshow(avg_landscape, cmap=\\\"gnuplot2\\\", vmax=0.15, vmin=0)\\n    pass\";\n",
       "                var nbb_formatted_code = \"# Plot the average landscape for each cell type\\nf, axes = plt.subplots(1, 3, figsize=(15, 5))\\n\\nfor i, (celltype, landscape_holder) in enumerate(\\n    zip([\\\"CD8\\\", \\\"FoxP3\\\", \\\"CD68\\\"], [cd8, foxp3, cd68])\\n):\\n    ax = plt.subplot(1, 3, i + 1)\\n    avg_landscape = np.mean(landscape_holder, axis=0).reshape(51, 51)\\n    ax.set_yticks([0, 25, 50])\\n    ax.set_xticks([0, 25, 50])\\n    ax.set_xticklabels([0, 180, 360])\\n    ax.set_yticklabels([600, 300, 0])\\n    ax.set_xlabel(\\\"10NN Codensity\\\")\\n    ax.set_ylabel(\\\"Radius\\\")\\n    ax.set_title(f\\\"{celltype} Average Landscape\\\", fontsize=16)\\n    ax.imshow(avg_landscape, cmap=\\\"gnuplot2\\\", vmax=0.15, vmin=0)\\n    pass\";\n",
       "                var nbb_cells = Jupyter.notebook.get_cells();\n",
       "                for (var i = 0; i < nbb_cells.length; ++i) {\n",
       "                    if (nbb_cells[i].input_prompt_number == nbb_cell_id) {\n",
       "                        if (nbb_cells[i].get_text() == nbb_unformatted_code) {\n",
       "                             nbb_cells[i].set_text(nbb_formatted_code);\n",
       "                        }\n",
       "                        break;\n",
       "                    }\n",
       "                }\n",
       "            }, 500);\n",
       "            "
      ],
      "text/plain": [
       "<IPython.core.display.Javascript object>"
      ]
     },
     "metadata": {},
     "output_type": "display_data"
    }
   ],
   "source": [
    "# Plot the average landscape for each cell type\n",
    "f, axes = plt.subplots(1,3,figsize=(15,5))\n",
    "\n",
    "for i, (celltype, landscape_holder) in enumerate(zip(['CD8', 'FoxP3','CD68'],[cd8, foxp3, cd68])):\n",
    "    ax = plt.subplot(1,3,i+1)\n",
    "    avg_landscape = np.mean(landscape_holder,axis = 0).reshape(51,51)\n",
    "    ax.set_yticks([0,25, 50])\n",
    "    ax.set_xticks([0,25, 50])\n",
    "    ax.set_xticklabels([0, 180, 360])\n",
    "    ax.set_yticklabels([600, 300, 0])\n",
    "    ax.set_xlabel(\"10NN Codensity\")\n",
    "    ax.set_ylabel(\"Radius\")\n",
    "    ax.set_title(f\"{celltype} Average Landscape\", fontsize=16)\n",
    "    ax.imshow(avg_landscape, cmap=\"gnuplot2\", vmax=0.15, vmin=0)\n",
    "    pass\n"
   ]
  },
  {
   "cell_type": "code",
   "execution_count": 5,
   "metadata": {},
   "outputs": [
    {
     "data": {
      "image/png": "[encoded data removed]",
      "text/plain": [
       "<Figure size 360x360 with 1 Axes>"
      ]
     },
     "metadata": {
      "needs_background": "light"
     },
     "output_type": "display_data"
    },
    {
     "data": {
      "application/javascript": [
       "\n",
       "            setTimeout(function() {\n",
       "                var nbb_cell_id = 5;\n",
       "                var nbb_unformatted_code = \"# Plot the radius profile\\nfig = plt.figure(figsize=(5, 5))\\nax = fig.add_subplot(1, 1, 1)\\n\\nplt.title(\\\"Radius Profile\\\", fontsize=20)\\navg_CD68_lscape = np.mean(cd68, axis=0).reshape(51, 51)\\navg_CD8_lscape = np.mean(cd8, axis=0).reshape(51, 51)\\navg_FoxP3_lscape = np.mean(foxp3, axis=0).reshape(51, 51)\\n\\nax.plot(\\n    np.flip(np.sum(avg_CD68_lscape, axis=1) / 51.0 * 100), c=\\\"xkcd:indigo\\\", linewidth=4\\n)\\nax.plot(\\n    np.flip(np.sum(avg_CD8_lscape, axis=1) / 51.0 * 100),\\n    c=\\\"xkcd:goldenrod\\\",\\n    linewidth=4,\\n)\\nax.plot(\\n    np.flip(np.sum(avg_FoxP3_lscape, axis=1) / 51.0 * 100), c=\\\"xkcd:aqua\\\", linewidth=4\\n)\\nax.set_xlabel(\\\"Radius $(\\\\mu m)$\\\", fontsize=15)\\nax.set_ylabel(\\\"Sum Along Codensity Axis $(10^{-2})$\\\", fontsize=16)\\nax.set_xticks([0, 25, 50])\\nax.set_xticklabels([0, 300, 600])\\n# ax.set_yticks([])\\nplt.tick_params(labelsize=14)\";\n",
       "                var nbb_formatted_code = \"# Plot the radius profile\\nfig = plt.figure(figsize=(5, 5))\\nax = fig.add_subplot(1, 1, 1)\\n\\nplt.title(\\\"Radius Profile\\\", fontsize=20)\\navg_CD68_lscape = np.mean(cd68, axis=0).reshape(51, 51)\\navg_CD8_lscape = np.mean(cd8, axis=0).reshape(51, 51)\\navg_FoxP3_lscape = np.mean(foxp3, axis=0).reshape(51, 51)\\n\\nax.plot(\\n    np.flip(np.sum(avg_CD68_lscape, axis=1) / 51.0 * 100), c=\\\"xkcd:indigo\\\", linewidth=4\\n)\\nax.plot(\\n    np.flip(np.sum(avg_CD8_lscape, axis=1) / 51.0 * 100),\\n    c=\\\"xkcd:goldenrod\\\",\\n    linewidth=4,\\n)\\nax.plot(\\n    np.flip(np.sum(avg_FoxP3_lscape, axis=1) / 51.0 * 100), c=\\\"xkcd:aqua\\\", linewidth=4\\n)\\nax.set_xlabel(\\\"Radius $(\\\\mu m)$\\\", fontsize=15)\\nax.set_ylabel(\\\"Sum Along Codensity Axis $(10^{-2})$\\\", fontsize=16)\\nax.set_xticks([0, 25, 50])\\nax.set_xticklabels([0, 300, 600])\\n# ax.set_yticks([])\\nplt.tick_params(labelsize=14)\";\n",
       "                var nbb_cells = Jupyter.notebook.get_cells();\n",
       "                for (var i = 0; i < nbb_cells.length; ++i) {\n",
       "                    if (nbb_cells[i].input_prompt_number == nbb_cell_id) {\n",
       "                        if (nbb_cells[i].get_text() == nbb_unformatted_code) {\n",
       "                             nbb_cells[i].set_text(nbb_formatted_code);\n",
       "                        }\n",
       "                        break;\n",
       "                    }\n",
       "                }\n",
       "            }, 500);\n",
       "            "
      ],
      "text/plain": [
       "<IPython.core.display.Javascript object>"
      ]
     },
     "metadata": {},
     "output_type": "display_data"
    }
   ],
   "source": [
    "# Plot the radius profile\n",
    "fig = plt.figure(figsize=(5, 5))\n",
    "ax = fig.add_subplot(1, 1, 1)\n",
    "\n",
    "plt.title(\"Radius Profile\", fontsize=20)\n",
    "avg_CD68_lscape = np.mean(cd68, axis=0).reshape(51, 51)\n",
    "avg_CD8_lscape = np.mean(cd8, axis=0).reshape(51, 51)\n",
    "avg_FoxP3_lscape = np.mean(foxp3, axis=0).reshape(51, 51)\n",
    "\n",
    "ax.plot(\n",
    "    np.flip(np.sum(avg_CD68_lscape, axis=1) / 51.0 * 100), c=\"xkcd:indigo\", linewidth=4\n",
    ")\n",
    "ax.plot(\n",
    "    np.flip(np.sum(avg_CD8_lscape, axis=1) / 51.0 * 100),\n",
    "    c=\"xkcd:goldenrod\",\n",
    "    linewidth=4,\n",
    ")\n",
    "ax.plot(\n",
    "    np.flip(np.sum(avg_FoxP3_lscape, axis=1) / 51.0 * 100), c=\"xkcd:aqua\", linewidth=4\n",
    ")\n",
    "ax.set_xlabel(\"Radius $(\\mu m)$\", fontsize=15)\n",
    "ax.set_ylabel(\"Sum Along Codensity Axis $(10^{-2})$\", fontsize=16)\n",
    "ax.set_xticks([0, 25, 50])\n",
    "ax.set_xticklabels([0, 300, 600])\n",
    "# ax.set_yticks([])\n",
    "plt.tick_params(labelsize=14)"
   ]
  },
  {
   "cell_type": "code",
   "execution_count": 6,
   "metadata": {},
   "outputs": [
    {
     "data": {
      "text/plain": [
       "Text(0.5, 1.0, 'Large Loop Functional')"
      ]
     },
     "execution_count": 6,
     "metadata": {},
     "output_type": "execute_result"
    },
    {
     "data": {
      "image/png": "[encoded data removed]",
      "text/plain": [
       "<Figure size 360x360 with 1 Axes>"
      ]
     },
     "metadata": {
      "needs_background": "light"
     },
     "output_type": "display_data"
    },
    {
     "data": {
      "application/javascript": [
       "\n",
       "            setTimeout(function() {\n",
       "                var nbb_cell_id = 6;\n",
       "                var nbb_unformatted_code = \"fig = plt.figure(figsize=(5, 5))\\nax = fig.add_subplot(1, 1, 1)\\n\\nlandscape = np.zeros((51, 51))\\nlandscape[:, :] = 0\\nlandscape[30:, :] = 0\\nlandscape[:30, :] = 1\\nax.imshow(landscape[:, :], cmap=\\\"bwr\\\")\\nfunctional = landscape[:, :]\\nax.set_ylabel(\\\"Radius\\\")\\nax.set_xlabel(\\\"Codensity\\\")\\nax.set_yticklabels([])\\nax.set_xticklabels([])\\nax.set_yticks([0, 25, 50])\\nax.set_xticks([0, 25, 50])\\nax.set_xticklabels([0, 180, 360])\\nax.set_yticklabels([600, 300, 0])\\nax.set_title(\\\"Large Loop Functional\\\")\";\n",
       "                var nbb_formatted_code = \"fig = plt.figure(figsize=(5, 5))\\nax = fig.add_subplot(1, 1, 1)\\n\\nlandscape = np.zeros((51, 51))\\nlandscape[:, :] = 0\\nlandscape[30:, :] = 0\\nlandscape[:30, :] = 1\\nax.imshow(landscape[:, :], cmap=\\\"bwr\\\")\\nfunctional = landscape[:, :]\\nax.set_ylabel(\\\"Radius\\\")\\nax.set_xlabel(\\\"Codensity\\\")\\nax.set_yticklabels([])\\nax.set_xticklabels([])\\nax.set_yticks([0, 25, 50])\\nax.set_xticks([0, 25, 50])\\nax.set_xticklabels([0, 180, 360])\\nax.set_yticklabels([600, 300, 0])\\nax.set_title(\\\"Large Loop Functional\\\")\";\n",
       "                var nbb_cells = Jupyter.notebook.get_cells();\n",
       "                for (var i = 0; i < nbb_cells.length; ++i) {\n",
       "                    if (nbb_cells[i].input_prompt_number == nbb_cell_id) {\n",
       "                        if (nbb_cells[i].get_text() == nbb_unformatted_code) {\n",
       "                             nbb_cells[i].set_text(nbb_formatted_code);\n",
       "                        }\n",
       "                        break;\n",
       "                    }\n",
       "                }\n",
       "            }, 500);\n",
       "            "
      ],
      "text/plain": [
       "<IPython.core.display.Javascript object>"
      ]
     },
     "metadata": {},
     "output_type": "display_data"
    }
   ],
   "source": [
    "fig = plt.figure(figsize=(5, 5))\n",
    "ax = fig.add_subplot(1, 1, 1)\n",
    "\n",
    "landscape = np.zeros((51, 51))\n",
    "landscape[:, :] = 0\n",
    "landscape[30:, :] = 0\n",
    "landscape[:30, :] = 1\n",
    "ax.imshow(landscape[:, :], cmap=\"bwr\")\n",
    "functional = landscape[:, :]\n",
    "ax.set_ylabel(\"Radius\")\n",
    "ax.set_xlabel(\"Codensity\")\n",
    "ax.set_yticklabels([])\n",
    "ax.set_xticklabels([])\n",
    "ax.set_yticks([0, 25, 50])\n",
    "ax.set_xticks([0, 25, 50])\n",
    "ax.set_xticklabels([0, 180, 360])\n",
    "ax.set_yticklabels([600, 300, 0])\n",
    "ax.set_title(\"Large Loop Functional\")"
   ]
  },
  {
   "cell_type": "code",
   "execution_count": 7,
   "metadata": {},
   "outputs": [
    {
     "data": {
      "application/javascript": [
       "\n",
       "            setTimeout(function() {\n",
       "                var nbb_cell_id = 7;\n",
       "                var nbb_unformatted_code = \"cd8_functional_values = []\\nfoxp3_functional_values = []\\ncd68_functional_values = []\\n\\n\\nfor files, func_values in zip([cd8files, foxp3files, cd68files],\\n                              [cd8_functional_values, foxp3_functional_values, cd68_functional_values]):\\n    \\n    for file in files:\\n        landscape_matrix = np.load(landscape_path + file)\\n        \\n        func_values.append(np.sum(np.multiply(landscape_matrix, functional))/(51.0*51.0)*1000)\";\n",
       "                var nbb_formatted_code = \"cd8_functional_values = []\\nfoxp3_functional_values = []\\ncd68_functional_values = []\\n\\n\\nfor files, func_values in zip(\\n    [cd8files, foxp3files, cd68files],\\n    [cd8_functional_values, foxp3_functional_values, cd68_functional_values],\\n):\\n\\n    for file in files:\\n        landscape_matrix = np.load(landscape_path + file)\\n\\n        func_values.append(\\n            np.sum(np.multiply(landscape_matrix, functional)) / (51.0 * 51.0) * 1000\\n        )\";\n",
       "                var nbb_cells = Jupyter.notebook.get_cells();\n",
       "                for (var i = 0; i < nbb_cells.length; ++i) {\n",
       "                    if (nbb_cells[i].input_prompt_number == nbb_cell_id) {\n",
       "                        if (nbb_cells[i].get_text() == nbb_unformatted_code) {\n",
       "                             nbb_cells[i].set_text(nbb_formatted_code);\n",
       "                        }\n",
       "                        break;\n",
       "                    }\n",
       "                }\n",
       "            }, 500);\n",
       "            "
      ],
      "text/plain": [
       "<IPython.core.display.Javascript object>"
      ]
     },
     "metadata": {},
     "output_type": "display_data"
    }
   ],
   "source": [
    "cd8_functional_values = []\n",
    "foxp3_functional_values = []\n",
    "cd68_functional_values = []\n",
    "\n",
    "\n",
    "for files, func_values in zip([cd8files, foxp3files, cd68files],\n",
    "                              [cd8_functional_values, foxp3_functional_values, cd68_functional_values]):\n",
    "    \n",
    "    for file in files:\n",
    "        landscape_matrix = np.load(landscape_path + file)\n",
    "        \n",
    "        func_values.append(np.sum(np.multiply(landscape_matrix, functional))/(51.0*51.0)*1000)\n"
   ]
  },
  {
   "cell_type": "code",
   "execution_count": 8,
   "metadata": {},
   "outputs": [
    {
     "data": {
      "text/plain": [
       "Text(0.5, 1.0, 'Large Loop Functional Distributions')"
      ]
     },
     "execution_count": 8,
     "metadata": {},
     "output_type": "execute_result"
    },
    {
     "data": {
      "image/png": "[encoded data removed]",
      "text/plain": [
       "<Figure size 360x360 with 1 Axes>"
      ]
     },
     "metadata": {
      "needs_background": "light"
     },
     "output_type": "display_data"
    },
    {
     "data": {
      "application/javascript": [
       "\n",
       "            setTimeout(function() {\n",
       "                var nbb_cell_id = 8;\n",
       "                var nbb_unformatted_code = \"fig, ax = plt.subplots(figsize=(5, 5))\\nbox_plot_data = [cd8_functional_values, foxp3_functional_values, cd68_functional_values]\\n\\nbplot = ax.boxplot(\\n    box_plot_data,\\n    labels=[\\\"CD8\\\", \\\"FoxP3\\\", \\\"CD68\\\"],\\n    patch_artist=True,\\n    notch=True,\\n    showfliers=False,\\n)\\nax.tick_params(axis=\\\"both\\\", labelsize=15)\\ncolors = [\\\"xkcd:goldenrod\\\", \\\"xkcd:aqua\\\", \\\"indigo\\\"]\\nfor patch, color in zip(bplot[\\\"boxes\\\"], colors):\\n    patch.set_facecolor(color)\\n    ax.set_ylabel(\\n        \\\"$\\\\int \\\\lambda(1, \\\\mathbf{x}) \\\\mathbf{1}_{Radius \\\\geq 240 \\\\mu m} d\\\\mathbf{x}$ $(10^{-3})$\\\",\\n        fontsize=16,\\n    )\\nax.set_title(\\\"Large Loop Functional Distributions\\\", fontsize=14)\";\n",
       "                var nbb_formatted_code = \"fig, ax = plt.subplots(figsize=(5, 5))\\nbox_plot_data = [cd8_functional_values, foxp3_functional_values, cd68_functional_values]\\n\\nbplot = ax.boxplot(\\n    box_plot_data,\\n    labels=[\\\"CD8\\\", \\\"FoxP3\\\", \\\"CD68\\\"],\\n    patch_artist=True,\\n    notch=True,\\n    showfliers=False,\\n)\\nax.tick_params(axis=\\\"both\\\", labelsize=15)\\ncolors = [\\\"xkcd:goldenrod\\\", \\\"xkcd:aqua\\\", \\\"indigo\\\"]\\nfor patch, color in zip(bplot[\\\"boxes\\\"], colors):\\n    patch.set_facecolor(color)\\n    ax.set_ylabel(\\n        \\\"$\\\\int \\\\lambda(1, \\\\mathbf{x}) \\\\mathbf{1}_{Radius \\\\geq 240 \\\\mu m} d\\\\mathbf{x}$ $(10^{-3})$\\\",\\n        fontsize=16,\\n    )\\nax.set_title(\\\"Large Loop Functional Distributions\\\", fontsize=14)\";\n",
       "                var nbb_cells = Jupyter.notebook.get_cells();\n",
       "                for (var i = 0; i < nbb_cells.length; ++i) {\n",
       "                    if (nbb_cells[i].input_prompt_number == nbb_cell_id) {\n",
       "                        if (nbb_cells[i].get_text() == nbb_unformatted_code) {\n",
       "                             nbb_cells[i].set_text(nbb_formatted_code);\n",
       "                        }\n",
       "                        break;\n",
       "                    }\n",
       "                }\n",
       "            }, 500);\n",
       "            "
      ],
      "text/plain": [
       "<IPython.core.display.Javascript object>"
      ]
     },
     "metadata": {},
     "output_type": "display_data"
    }
   ],
   "source": [
    "fig, ax = plt.subplots(figsize=(5, 5))\n",
    "box_plot_data = [cd8_functional_values, foxp3_functional_values, cd68_functional_values]\n",
    "\n",
    "bplot = ax.boxplot(\n",
    "    box_plot_data,\n",
    "    labels=[\"CD8\", \"FoxP3\", \"CD68\"],\n",
    "    patch_artist=True,\n",
    "    notch=True,\n",
    "    showfliers=False,\n",
    ")\n",
    "ax.tick_params(axis=\"both\", labelsize=15)\n",
    "colors = [\"xkcd:goldenrod\", \"xkcd:aqua\", \"indigo\"]\n",
    "for patch, color in zip(bplot[\"boxes\"], colors):\n",
    "    patch.set_facecolor(color)\n",
    "    ax.set_ylabel(\n",
    "        \"$\\int \\lambda(1, \\mathbf{x}) \\mathbf{1}_{Radius \\geq 240 \\mu m} d\\mathbf{x}$ $(10^{-3})$\",\n",
    "        fontsize=16,\n",
    "    )\n",
    "ax.set_title(\"Large Loop Functional Distributions\", fontsize=14)"
   ]
  },
  {
   "cell_type": "markdown",
   "metadata": {},
   "source": [
    "Define function for 2-sided permutation test. Takes pooled observations, makes a random split into two groups and returns the absolute value of the difference between the means of the random split."
   ]
  },
  {
   "cell_type": "code",
   "execution_count": 9,
   "metadata": {},
   "outputs": [
    {
     "data": {
      "application/javascript": [
       "\n",
       "            setTimeout(function() {\n",
       "                var nbb_cell_id = 9;\n",
       "                var nbb_unformatted_code = \"def permutation_test(pooled, sizeZ, sizeY):\\n    np.random.shuffle(pooled)\\n    starZ = pooled[:sizeZ]\\n    starY = pooled[-sizeY:]\\n    return np.abs(starZ.mean() - starY.mean())\";\n",
       "                var nbb_formatted_code = \"def permutation_test(pooled, sizeZ, sizeY):\\n    np.random.shuffle(pooled)\\n    starZ = pooled[:sizeZ]\\n    starY = pooled[-sizeY:]\\n    return np.abs(starZ.mean() - starY.mean())\";\n",
       "                var nbb_cells = Jupyter.notebook.get_cells();\n",
       "                for (var i = 0; i < nbb_cells.length; ++i) {\n",
       "                    if (nbb_cells[i].input_prompt_number == nbb_cell_id) {\n",
       "                        if (nbb_cells[i].get_text() == nbb_unformatted_code) {\n",
       "                             nbb_cells[i].set_text(nbb_formatted_code);\n",
       "                        }\n",
       "                        break;\n",
       "                    }\n",
       "                }\n",
       "            }, 500);\n",
       "            "
      ],
      "text/plain": [
       "<IPython.core.display.Javascript object>"
      ]
     },
     "metadata": {},
     "output_type": "display_data"
    }
   ],
   "source": [
    "def permutation_test(pooled, sizeZ, sizeY):\n",
    "    np.random.shuffle(pooled)\n",
    "    starZ = pooled[:sizeZ]\n",
    "    starY = pooled[-sizeY:]\n",
    "    return np.abs(starZ.mean() - starY.mean())"
   ]
  },
  {
   "cell_type": "markdown",
   "metadata": {},
   "source": [
    "Count the proportion of occurences that the random split has a greater difference in mean than the observe functional values:"
   ]
  },
  {
   "cell_type": "code",
   "execution_count": 10,
   "metadata": {},
   "outputs": [
    {
     "name": "stdout",
     "output_type": "stream",
     "text": [
      "0.03205\n"
     ]
    },
    {
     "data": {
      "application/javascript": [
       "\n",
       "            setTimeout(function() {\n",
       "                var nbb_cell_id = 10;\n",
       "                var nbb_unformatted_code = \"# Example Permutation Test\\n\\n# number of random splits\\nnumSamples = 20000\\n# the original difference in the means\\ndelta = np.abs(np.mean(cd8_functional_values) - np.mean(foxp3_functional_values))\\npooled = np.hstack((cd8_functional_values, cd68_functional_values))\\n\\nestimates = np.array(\\n    [\\n        permutation_test(\\n            pooled, len(cd8_functional_values), len(foxp3_functional_values)\\n        )\\n        for _ in range(numSamples)\\n    ]\\n)\\n# Count the number of random splits where the differences in mean are greater than the original split\\ndiffCount = sum(estimates >= delta)\\n# p_value given by the proportion of random samples in which a bigger difference in mean is observed\\np_value = float(diffCount) / float(numSamples)\\nprint(p_value)\";\n",
       "                var nbb_formatted_code = \"# Example Permutation Test\\n\\n# number of random splits\\nnumSamples = 20000\\n# the original difference in the means\\ndelta = np.abs(np.mean(cd8_functional_values) - np.mean(foxp3_functional_values))\\npooled = np.hstack((cd8_functional_values, cd68_functional_values))\\n\\nestimates = np.array(\\n    [\\n        permutation_test(\\n            pooled, len(cd8_functional_values), len(foxp3_functional_values)\\n        )\\n        for _ in range(numSamples)\\n    ]\\n)\\n# Count the number of random splits where the differences in mean are greater than the original split\\ndiffCount = sum(estimates >= delta)\\n# p_value given by the proportion of random samples in which a bigger difference in mean is observed\\np_value = float(diffCount) / float(numSamples)\\nprint(p_value)\";\n",
       "                var nbb_cells = Jupyter.notebook.get_cells();\n",
       "                for (var i = 0; i < nbb_cells.length; ++i) {\n",
       "                    if (nbb_cells[i].input_prompt_number == nbb_cell_id) {\n",
       "                        if (nbb_cells[i].get_text() == nbb_unformatted_code) {\n",
       "                             nbb_cells[i].set_text(nbb_formatted_code);\n",
       "                        }\n",
       "                        break;\n",
       "                    }\n",
       "                }\n",
       "            }, 500);\n",
       "            "
      ],
      "text/plain": [
       "<IPython.core.display.Javascript object>"
      ]
     },
     "metadata": {},
     "output_type": "display_data"
    }
   ],
   "source": [
    "# Example Permutation Test\n",
    "\n",
    "# number of random splits\n",
    "numSamples = 20000\n",
    "# the original difference in the means\n",
    "delta = np.abs(np.mean(cd8_functional_values) - np.mean(foxp3_functional_values))\n",
    "pooled = np.hstack((cd8_functional_values, cd68_functional_values))\n",
    "\n",
    "estimates = np.array(\n",
    "    [\n",
    "        permutation_test(\n",
    "            pooled, len(cd8_functional_values), len(foxp3_functional_values)\n",
    "        )\n",
    "        for _ in range(numSamples)\n",
    "    ]\n",
    ")\n",
    "# Count the number of random splits where the differences in mean are greater than the original split\n",
    "diffCount = sum(estimates >= delta)\n",
    "# p_value given by the proportion of random samples in which a bigger difference in mean is observed\n",
    "p_value = float(diffCount) / float(numSamples)\n",
    "print(p_value)"
   ]
  },
  {
   "cell_type": "markdown",
   "metadata": {},
   "source": [
    "## Classify the cell types using the landscape vectors"
   ]
  },
  {
   "cell_type": "code",
   "execution_count": 11,
   "metadata": {},
   "outputs": [
    {
     "data": {
      "application/javascript": [
       "\n",
       "            setTimeout(function() {\n",
       "                var nbb_cell_id = 11;\n",
       "                var nbb_unformatted_code = \"from sklearn.decomposition import PCA\\nfrom sklearn.discriminant_analysis import (\\n    LinearDiscriminantAnalysis,\\n    QuadraticDiscriminantAnalysis,\\n)\\n\\nldr_classifier = LinearDiscriminantAnalysis()\\nqda_classifier = QuadraticDiscriminantAnalysis()\\npca_classifier = PCA()\\ntrain_split = 0.8\\nnbr_of_repeats = 100\";\n",
       "                var nbb_formatted_code = \"from sklearn.decomposition import PCA\\nfrom sklearn.discriminant_analysis import (\\n    LinearDiscriminantAnalysis,\\n    QuadraticDiscriminantAnalysis,\\n)\\n\\nldr_classifier = LinearDiscriminantAnalysis()\\nqda_classifier = QuadraticDiscriminantAnalysis()\\npca_classifier = PCA()\\ntrain_split = 0.8\\nnbr_of_repeats = 100\";\n",
       "                var nbb_cells = Jupyter.notebook.get_cells();\n",
       "                for (var i = 0; i < nbb_cells.length; ++i) {\n",
       "                    if (nbb_cells[i].input_prompt_number == nbb_cell_id) {\n",
       "                        if (nbb_cells[i].get_text() == nbb_unformatted_code) {\n",
       "                             nbb_cells[i].set_text(nbb_formatted_code);\n",
       "                        }\n",
       "                        break;\n",
       "                    }\n",
       "                }\n",
       "            }, 500);\n",
       "            "
      ],
      "text/plain": [
       "<IPython.core.display.Javascript object>"
      ]
     },
     "metadata": {},
     "output_type": "display_data"
    }
   ],
   "source": [
    "from sklearn.decomposition import PCA\n",
    "from sklearn.discriminant_analysis import (\n",
    "    LinearDiscriminantAnalysis,\n",
    "    QuadraticDiscriminantAnalysis,\n",
    ")\n",
    "\n",
    "ldr_classifier = LinearDiscriminantAnalysis()\n",
    "qda_classifier = QuadraticDiscriminantAnalysis()\n",
    "pca_classifier = PCA()\n",
    "train_split = 0.8\n",
    "nbr_of_repeats = 100"
   ]
  },
  {
   "cell_type": "code",
   "execution_count": 12,
   "metadata": {},
   "outputs": [
    {
     "name": "stdout",
     "output_type": "stream",
     "text": [
      "CD68vsFoxP3\n",
      "lda accuracy: 0.7260000000000001\n",
      "lda with pca accuracy: 0.8730000000000002\n",
      "qda with pca accuracy: 0.838\n",
      "CD8vsFoxP3\n",
      "lda accuracy: 0.6864285714285714\n",
      "lda with pca accuracy: 0.7542857142857141\n",
      "qda with pca accuracy: 0.6396428571428571\n",
      "CD8vsCD68\n",
      "lda accuracy: 0.5960714285714286\n",
      "lda with pca accuracy: 0.6392857142857142\n",
      "qda with pca accuracy: 0.6514285714285716\n",
      "3way\n",
      "lda accuracy: 0.5127906976744186\n",
      "lda with pca accuracy: 0.6306976744186047\n",
      "qda with pca accuracy: 0.6386046511627907\n"
     ]
    },
    {
     "data": {
      "application/javascript": [
       "\n",
       "            setTimeout(function() {\n",
       "                var nbb_cell_id = 12;\n",
       "                var nbb_unformatted_code = \"for X, y, label in zip(\\n    [\\n        np.vstack([cd68, foxp3]),\\n        np.vstack([cd8, foxp3]),\\n        np.vstack([cd8, cd68]),\\n        np.vstack([cd8, foxp3, cd68]),\\n    ],\\n    [\\n        np.array([\\\"CD68\\\"] * cd68n + [\\\"FoxP3\\\"] * foxp3n),\\n        np.array([\\\"CD8\\\"] * cd8n + [\\\"FoxP3\\\"] * foxp3n),\\n        np.array([\\\"CD8\\\"] * cd8n + [\\\"CD68\\\"] * cd68n),\\n        np.array([\\\"CD8\\\"] * cd8n + [\\\"FoxP3\\\"] * foxp3n + [\\\"CD68\\\"] * cd68n),\\n    ],\\n    [\\\"CD68vsFoxP3\\\", \\\"CD8vsFoxP3\\\", \\\"CD8vsCD68\\\", \\\"3way\\\"],\\n):\\n\\n    print(label)\\n\\n    pca = PCA(n_components=3)\\n    Xr = pca.fit(X).transform(X)\\n    test_accuracy_lda = []\\n    test_accuracy_lda_pca = []\\n    test_accuracy_qda_pca = []\\n    mask = np.array([False] * len(y))\\n    mask[: int(np.floor(len(y) * train_split))] = True\\n    for _ in range(nbr_of_repeats):\\n        np.random.shuffle(mask)\\n\\n        X_train = X[mask]\\n        Xr_train = Xr[mask]\\n        y_train = y[mask]\\n\\n        X_test = X[np.logical_not(mask)]\\n        Xr_test = Xr[np.logical_not(mask)]\\n        y_test = y[np.logical_not(mask)]\\n\\n        ldr_classifier = LinearDiscriminantAnalysis()\\n        ldr_classifier.fit(X_train, y_train)\\n        test_accuracy_lda.append(ldr_classifier.score(X_test, y_test))\\n\\n        ldr_pcaclassifier = LinearDiscriminantAnalysis()\\n        ldr_pcaclassifier.fit(Xr_train, y_train)\\n        test_accuracy_lda_pca.append(ldr_pcaclassifier.score(Xr_test, y_test))\\n\\n        qda_classifier = QuadraticDiscriminantAnalysis()\\n        qda_classifier.fit(Xr_train, y_train)\\n        test_accuracy_qda_pca.append(qda_classifier.score(Xr_test, y_test))\\n\\n    print(\\\"lda accuracy:\\\", np.mean(test_accuracy_lda))\\n    print(\\\"lda with pca accuracy:\\\", np.mean(test_accuracy_lda_pca))\\n    print(\\\"qda with pca accuracy:\\\", np.mean(test_accuracy_qda_pca))\";\n",
       "                var nbb_formatted_code = \"for X, y, label in zip(\\n    [\\n        np.vstack([cd68, foxp3]),\\n        np.vstack([cd8, foxp3]),\\n        np.vstack([cd8, cd68]),\\n        np.vstack([cd8, foxp3, cd68]),\\n    ],\\n    [\\n        np.array([\\\"CD68\\\"] * cd68n + [\\\"FoxP3\\\"] * foxp3n),\\n        np.array([\\\"CD8\\\"] * cd8n + [\\\"FoxP3\\\"] * foxp3n),\\n        np.array([\\\"CD8\\\"] * cd8n + [\\\"CD68\\\"] * cd68n),\\n        np.array([\\\"CD8\\\"] * cd8n + [\\\"FoxP3\\\"] * foxp3n + [\\\"CD68\\\"] * cd68n),\\n    ],\\n    [\\\"CD68vsFoxP3\\\", \\\"CD8vsFoxP3\\\", \\\"CD8vsCD68\\\", \\\"3way\\\"],\\n):\\n\\n    print(label)\\n\\n    pca = PCA(n_components=3)\\n    Xr = pca.fit(X).transform(X)\\n    test_accuracy_lda = []\\n    test_accuracy_lda_pca = []\\n    test_accuracy_qda_pca = []\\n    mask = np.array([False] * len(y))\\n    mask[: int(np.floor(len(y) * train_split))] = True\\n    for _ in range(nbr_of_repeats):\\n        np.random.shuffle(mask)\\n\\n        X_train = X[mask]\\n        Xr_train = Xr[mask]\\n        y_train = y[mask]\\n\\n        X_test = X[np.logical_not(mask)]\\n        Xr_test = Xr[np.logical_not(mask)]\\n        y_test = y[np.logical_not(mask)]\\n\\n        ldr_classifier = LinearDiscriminantAnalysis()\\n        ldr_classifier.fit(X_train, y_train)\\n        test_accuracy_lda.append(ldr_classifier.score(X_test, y_test))\\n\\n        ldr_pcaclassifier = LinearDiscriminantAnalysis()\\n        ldr_pcaclassifier.fit(Xr_train, y_train)\\n        test_accuracy_lda_pca.append(ldr_pcaclassifier.score(Xr_test, y_test))\\n\\n        qda_classifier = QuadraticDiscriminantAnalysis()\\n        qda_classifier.fit(Xr_train, y_train)\\n        test_accuracy_qda_pca.append(qda_classifier.score(Xr_test, y_test))\\n\\n    print(\\\"lda accuracy:\\\", np.mean(test_accuracy_lda))\\n    print(\\\"lda with pca accuracy:\\\", np.mean(test_accuracy_lda_pca))\\n    print(\\\"qda with pca accuracy:\\\", np.mean(test_accuracy_qda_pca))\";\n",
       "                var nbb_cells = Jupyter.notebook.get_cells();\n",
       "                for (var i = 0; i < nbb_cells.length; ++i) {\n",
       "                    if (nbb_cells[i].input_prompt_number == nbb_cell_id) {\n",
       "                        if (nbb_cells[i].get_text() == nbb_unformatted_code) {\n",
       "                             nbb_cells[i].set_text(nbb_formatted_code);\n",
       "                        }\n",
       "                        break;\n",
       "                    }\n",
       "                }\n",
       "            }, 500);\n",
       "            "
      ],
      "text/plain": [
       "<IPython.core.display.Javascript object>"
      ]
     },
     "metadata": {},
     "output_type": "display_data"
    }
   ],
   "source": [
    "for X, y, label in zip(\n",
    "    [\n",
    "        np.vstack([cd68, foxp3]),\n",
    "        np.vstack([cd8, foxp3]),\n",
    "        np.vstack([cd8, cd68]),\n",
    "        np.vstack([cd8, foxp3, cd68]),\n",
    "    ],\n",
    "    [\n",
    "        np.array([\"CD68\"] * cd68n + [\"FoxP3\"] * foxp3n),\n",
    "        np.array([\"CD8\"] * cd8n + [\"FoxP3\"] * foxp3n),\n",
    "        np.array([\"CD8\"] * cd8n + [\"CD68\"] * cd68n),\n",
    "        np.array([\"CD8\"] * cd8n + [\"FoxP3\"] * foxp3n + [\"CD68\"] * cd68n),\n",
    "    ],\n",
    "    [\"CD68vsFoxP3\", \"CD8vsFoxP3\", \"CD8vsCD68\", \"3way\"],\n",
    "):\n",
    "\n",
    "    print(label)\n",
    "\n",
    "    pca = PCA(n_components=3)\n",
    "    Xr = pca.fit(X).transform(X)\n",
    "    test_accuracy_lda = []\n",
    "    test_accuracy_lda_pca = []\n",
    "    test_accuracy_qda_pca = []\n",
    "    mask = np.array([False] * len(y))\n",
    "    mask[: int(np.floor(len(y) * train_split))] = True\n",
    "    for _ in range(nbr_of_repeats):\n",
    "        np.random.shuffle(mask)\n",
    "\n",
    "        X_train = X[mask]\n",
    "        Xr_train = Xr[mask]\n",
    "        y_train = y[mask]\n",
    "\n",
    "        X_test = X[np.logical_not(mask)]\n",
    "        Xr_test = Xr[np.logical_not(mask)]\n",
    "        y_test = y[np.logical_not(mask)]\n",
    "\n",
    "        ldr_classifier = LinearDiscriminantAnalysis()\n",
    "        ldr_classifier.fit(X_train, y_train)\n",
    "        test_accuracy_lda.append(ldr_classifier.score(X_test, y_test))\n",
    "\n",
    "        ldr_pcaclassifier = LinearDiscriminantAnalysis()\n",
    "        ldr_pcaclassifier.fit(Xr_train, y_train)\n",
    "        test_accuracy_lda_pca.append(ldr_pcaclassifier.score(Xr_test, y_test))\n",
    "\n",
    "        qda_classifier = QuadraticDiscriminantAnalysis()\n",
    "        qda_classifier.fit(Xr_train, y_train)\n",
    "        test_accuracy_qda_pca.append(qda_classifier.score(Xr_test, y_test))\n",
    "\n",
    "    print(\"lda accuracy:\", np.mean(test_accuracy_lda))\n",
    "    print(\"lda with pca accuracy:\", np.mean(test_accuracy_lda_pca))\n",
    "    print(\"qda with pca accuracy:\", np.mean(test_accuracy_qda_pca))"
   ]
  }
 ],
 "metadata": {
  "kernelspec": {
   "display_name": "Python 3",
   "language": "python",
   "name": "python3"
  },
  "language_info": {
   "codemirror_mode": {
    "name": "ipython",
    "version": 3
   },
   "file_extension": ".py",
   "mimetype": "text/x-python",
   "name": "python",
   "nbconvert_exporter": "python",
   "pygments_lexer": "ipython3",
   "version": "3.7.9"
  }
 },
 "nbformat": 4,
 "nbformat_minor": 2
}
